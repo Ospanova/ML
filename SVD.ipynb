{
 "cells": [
  {
   "cell_type": "code",
   "execution_count": 4,
   "metadata": {},
   "outputs": [],
   "source": [
    "import numpy as np\n",
    "import numpy.linalg as la"
   ]
  },
  {
   "cell_type": "code",
   "execution_count": 5,
   "metadata": {},
   "outputs": [],
   "source": [
    "A = np.matrix([[5, 6], [2, 3], [4, 5], [6, 7]])\n",
    "n, m = A.shape\n"
   ]
  },
  {
   "cell_type": "code",
   "execution_count": 10,
   "metadata": {},
   "outputs": [
    {
     "name": "stdout",
     "output_type": "stream",
     "text": [
      "[[5 2 4 6]\n",
      " [6 3 5 7]]\n"
     ]
    }
   ],
   "source": [
    "At = A.transpose()\n",
    "print At"
   ]
  },
  {
   "cell_type": "code",
   "execution_count": 17,
   "metadata": {},
   "outputs": [],
   "source": [
    "eigval, U=la.eig(np.matmul(A, At))\n",
    "eigval2, V=la.eig(np.matmul(At, A))"
   ]
  },
  {
   "cell_type": "code",
   "execution_count": 18,
   "metadata": {},
   "outputs": [],
   "source": [
    "D=np.zeros((n, m))\n",
    "np.fill_diagonal(D, (np.sort(eigval)[::-1])**(1/2))"
   ]
  },
  {
   "cell_type": "code",
   "execution_count": 19,
   "metadata": {},
   "outputs": [
    {
     "name": "stdout",
     "output_type": "stream",
     "text": [
      "A=U*D*V(transpose) = \n",
      "[[ 0.36579017 -0.42483322]\n",
      " [ 0.75196564  0.51295137]\n",
      " [ 0.49451533 -0.11223836]\n",
      " [ 0.23706502 -0.73742808]]\n"
     ]
    }
   ],
   "source": [
    "print(\"A=U*D*V(transpose) = \")\n",
    "print U*D*V.transpose();"
   ]
  },
  {
   "cell_type": "code",
   "execution_count": null,
   "metadata": {},
   "outputs": [],
   "source": []
  }
 ],
 "metadata": {
  "kernelspec": {
   "display_name": "Python 2",
   "language": "python",
   "name": "python2"
  },
  "language_info": {
   "codemirror_mode": {
    "name": "ipython",
    "version": 2
   },
   "file_extension": ".py",
   "mimetype": "text/x-python",
   "name": "python",
   "nbconvert_exporter": "python",
   "pygments_lexer": "ipython2",
   "version": "2.7.10"
  }
 },
 "nbformat": 4,
 "nbformat_minor": 2
}
