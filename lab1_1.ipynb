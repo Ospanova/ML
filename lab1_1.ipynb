import re
from scipy.spatial import distance
import math
from numpy import dot
from numpy.linalg import norm
def cos_dist (list1, list2):
    sum1 = 0
    sum2 = 0
    sum3 = 0
    for i in range (len(list1)) :
            sum1 = sum1 + (list1[i] * list2[i])
            sum2 = sum2 + (list1[i] * list1[i])
            sum3 = sum3 + (list2[i] * list2[i])
    
    return 1 - sum1/(math.sqrt(sum3*sum2))
    
f = open("sentences.txt", "r")
s = {}
d = 0
n = 0

mymap = {}
if f.mode == "r" :
    data = f.readlines()
for line in data:
    n = n + 1
    line = line.lower()
    words = re.split('[^a-z]', line)
    for word in words:
        if (word != ""):
            if word not in s:
                s[word] = d
                d = d + 1
Matrix = []
o = 0
for line in data:
    line = line.lower()
    words = re.split('[^a-z]', line)
    nn = [0]*d
    for word in words:          
            for i in range(d):
                if (word != ""):
                    if i == s[word]:
                         nn[i] = nn[i] + 1
    Matrix.insert(o, nn)
    o = o + 1

#print Matrix
min1 = distance.cosine(Matrix[0], Matrix[1])
min2 = distance.cosine(Matrix[0], Matrix[2])
id1, id2 = 1, 2
if min1 > min2:
    min3 = min2
    min2 = min1
    min1 = min3
    id3 = id2
    id2 = id1
    id1 = id3
for i in range(n):
    if(i != 0):
        #print distance.cosine(Matrix[0], Matrix[i])
        if cos_dist(Matrix[0], Matrix[i]) < min1:
            min2 = min1
            id2 = id1
            min1 = cos_dist(Matrix[0], Matrix[i])
            id1 = i
        elif cos_dist(Matrix[0], Matrix[i]) < min2:
            min2 = cos_dist(Matrix[0], Matrix[i])
            id2 = i

print id1, id2        

        
