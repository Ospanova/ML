{
 "cells": [
  {
   "cell_type": "code",
   "execution_count": null,
   "metadata": {},
   "outputs": [],
   "source": []
  },
  {
   "cell_type": "code",
   "execution_count": 112,
   "metadata": {},
   "outputs": [
    {
     "name": "stdout",
     "output_type": "stream",
     "text": [
      "0.9527544408738466\n",
      "0.8644738145642124\n",
      "0.8951715163278082\n",
      "0.7770887149698589\n",
      "0.9402385695332803\n",
      "0.7327387580875756\n",
      "0.9258750683338899\n",
      "0.8842724875284311\n",
      "0.9055088817476932\n",
      "0.8328165362273942\n",
      "0.8804771390665607\n",
      "0.8396432548525454\n",
      "0.8703592552895671\n",
      "0.8740118423302576\n",
      "0.9442721787424647\n",
      "0.8406361854220809\n",
      "0.956644501523794\n",
      "0.9442721787424647\n",
      "0.8885443574849294\n",
      "0.8427572744917122\n",
      "0.8250364469440588\n",
      "6 4\n"
     ]
    }
   ],
   "source": [
    "import re\n",
    "from scipy.spatial import distance\n",
    "f = open(\"sentences.txt\", \"r\")\n",
    "s = {}\n",
    "d = 0\n",
    "n = 0\n",
    "\n",
    "mymap = {}\n",
    "if f.mode == \"r\" :\n",
    "    data = f.readlines()\n",
    "for line in data:\n",
    "    n = n + 1\n",
    "    line = line.lower()\n",
    "    words = re.split('[^a-z]', line)\n",
    "    for word in words:\n",
    "        if (word != \"\"):\n",
    "            if word not in s:\n",
    "                s[word] = d\n",
    "                d = d + 1\n",
    "Matrix = []\n",
    "o = 0\n",
    "for line in data:\n",
    "    line = line.lower()\n",
    "    words = re.split('[^a-z]', line)\n",
    "    nn = [0]*d\n",
    "    for word in words:          \n",
    "            for i in range(d):\n",
    "                if (word != \"\"):\n",
    "                    if i == s[word]:\n",
    "                         nn[i] = nn[i] + 1\n",
    "    Matrix.insert(o, nn)\n",
    "    o = o + 1\n",
    "\n",
    "#print Matrix\n",
    "min1 = distance.cosine(Matrix[0], Matrix[1])\n",
    "min2 = distance.cosine(Matrix[0], Matrix[2])\n",
    "id1, id2 = 1, 2\n",
    "if min1 > min2:\n",
    "    min3 = min2\n",
    "    min2 = min1\n",
    "    min1 = min3\n",
    "    id3 = id2\n",
    "    id2 = id1\n",
    "    id1 = id3\n",
    "for i in range(n):\n",
    "    if(i != 0):\n",
    "        print distance.cosine(Matrix[0], Matrix[i])\n",
    "        if distance.cosine(Matrix[0], Matrix[i]) < min1:\n",
    "            min2 = min1\n",
    "            id2 = id1\n",
    "            min1 = distance.cosine(Matrix[0], Matrix[i])\n",
    "            id1 = i\n",
    "        elif distance.cosine(Matrix[0], Matrix[i]) < min2:\n",
    "            min2 = distance.cosine(Matrix[0], Matrix[i])\n",
    "            id2 = i\n",
    "\n",
    "print id1, id2        \n",
    "\n",
    "        \n"
   ]
  },
  {
   "cell_type": "code",
   "execution_count": null,
   "metadata": {},
   "outputs": [],
   "source": []
  },
  {
   "cell_type": "code",
   "execution_count": null,
   "metadata": {},
   "outputs": [],
   "source": []
  }
 ],
 "metadata": {
  "kernelspec": {
   "display_name": "Python 2",
   "language": "python",
   "name": "python2"
  },
  "language_info": {
   "codemirror_mode": {
    "name": "ipython",
    "version": 2
   },
   "file_extension": ".py",
   "mimetype": "text/x-python",
   "name": "python",
   "nbconvert_exporter": "python",
   "pygments_lexer": "ipython2",
   "version": "2.7.15"
  }
 },
 "nbformat": 4,
 "nbformat_minor": 2
}
